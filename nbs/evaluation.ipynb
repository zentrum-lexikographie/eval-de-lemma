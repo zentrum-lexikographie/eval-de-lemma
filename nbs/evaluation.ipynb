{
 "cells": [
  {
   "cell_type": "markdown",
   "id": "71ed4a6c",
   "metadata": {},
   "source": [
    "# Lemmatisierer Evaluierung"
   ]
  },
  {
   "cell_type": "code",
   "execution_count": 38,
   "id": "25af25ac",
   "metadata": {},
   "outputs": [],
   "source": [
    "import glob\n",
    "import json\n",
    "import pandas as pd\n",
    "import seaborn as sns\n",
    "\n",
    "import matplotlib.pyplot as plt\n",
    "%matplotlib inline"
   ]
  },
  {
   "cell_type": "code",
   "execution_count": 3,
   "id": "d48b0ea2",
   "metadata": {},
   "outputs": [],
   "source": [
    "FILES = glob.glob(\"results-*.json\")\n",
    "data = []\n",
    "for FILE in FILES:\n",
    "    with open(FILE, \"r\") as fp:\n",
    "        data += json.load(fp)"
   ]
  },
  {
   "cell_type": "code",
   "execution_count": 4,
   "id": "1cdb3086",
   "metadata": {},
   "outputs": [
    {
     "data": {
      "text/plain": [
       "47"
      ]
     },
     "execution_count": 4,
     "metadata": {},
     "output_type": "execute_result"
    }
   ],
   "source": [
    "len(data)"
   ]
  },
  {
   "cell_type": "code",
   "execution_count": 19,
   "id": "cd726dda",
   "metadata": {},
   "outputs": [],
   "source": [
    "algos = [\"baseline\", \"germalemma\", \"simplemma\", \"spacy2\", \"spacy3\", \"spacy33+\", \"stanza\", \"trankit\"]"
   ]
  },
  {
   "cell_type": "code",
   "execution_count": 10,
   "id": "f9c86251",
   "metadata": {},
   "outputs": [],
   "source": [
    "corpora = [\"ud-hdt\", \"ud-gsd\", \"ud-pud\", \"germanc\", \"archimob\", \"nosta-d\"]"
   ]
  },
  {
   "cell_type": "code",
   "execution_count": 40,
   "id": "98da6fc5",
   "metadata": {},
   "outputs": [
    {
     "data": {
      "text/html": [
       "<div>\n",
       "<style scoped>\n",
       "    .dataframe tbody tr th:only-of-type {\n",
       "        vertical-align: middle;\n",
       "    }\n",
       "\n",
       "    .dataframe tbody tr th {\n",
       "        vertical-align: top;\n",
       "    }\n",
       "\n",
       "    .dataframe thead th {\n",
       "        text-align: right;\n",
       "    }\n",
       "</style>\n",
       "<table border=\"1\" class=\"dataframe\">\n",
       "  <thead>\n",
       "    <tr style=\"text-align: right;\">\n",
       "      <th></th>\n",
       "      <th>ud-hdt</th>\n",
       "      <th>ud-gsd</th>\n",
       "      <th>ud-pud</th>\n",
       "      <th>germanc</th>\n",
       "      <th>archimob</th>\n",
       "      <th>nosta-d</th>\n",
       "    </tr>\n",
       "    <tr>\n",
       "      <th>algorithm</th>\n",
       "      <th></th>\n",
       "      <th></th>\n",
       "      <th></th>\n",
       "      <th></th>\n",
       "      <th></th>\n",
       "      <th></th>\n",
       "    </tr>\n",
       "  </thead>\n",
       "  <tbody>\n",
       "    <tr>\n",
       "      <th>baseline</th>\n",
       "      <td>0.000008</td>\n",
       "      <td>0.042235</td>\n",
       "      <td>0.001395</td>\n",
       "      <td>0.001457</td>\n",
       "      <td>0.0</td>\n",
       "      <td>0.000002</td>\n",
       "    </tr>\n",
       "    <tr>\n",
       "      <th>germalemma</th>\n",
       "      <td>2.144125</td>\n",
       "      <td>0.057110</td>\n",
       "      <td>0.117779</td>\n",
       "      <td>3.326020</td>\n",
       "      <td>0.0</td>\n",
       "      <td>0.065338</td>\n",
       "    </tr>\n",
       "    <tr>\n",
       "      <th>simplemma</th>\n",
       "      <td>1.203707</td>\n",
       "      <td>0.037724</td>\n",
       "      <td>0.036087</td>\n",
       "      <td>0.976444</td>\n",
       "      <td>0.0</td>\n",
       "      <td>0.023459</td>\n",
       "    </tr>\n",
       "    <tr>\n",
       "      <th>spacy2</th>\n",
       "      <td>37.564708</td>\n",
       "      <td>2.061178</td>\n",
       "      <td>2.725797</td>\n",
       "      <td>83.411965</td>\n",
       "      <td>0.0</td>\n",
       "      <td>5.341197</td>\n",
       "    </tr>\n",
       "    <tr>\n",
       "      <th>spacy3</th>\n",
       "      <td>2.958954</td>\n",
       "      <td>0.248304</td>\n",
       "      <td>0.198066</td>\n",
       "      <td>6.455835</td>\n",
       "      <td>0.0</td>\n",
       "      <td>0.206511</td>\n",
       "    </tr>\n",
       "    <tr>\n",
       "      <th>spacy33+</th>\n",
       "      <td>487.363728</td>\n",
       "      <td>32.124115</td>\n",
       "      <td>33.378052</td>\n",
       "      <td>1033.347623</td>\n",
       "      <td>0.0</td>\n",
       "      <td>65.591092</td>\n",
       "    </tr>\n",
       "    <tr>\n",
       "      <th>stanza</th>\n",
       "      <td>196.215316</td>\n",
       "      <td>7.175498</td>\n",
       "      <td>11.535709</td>\n",
       "      <td>359.056531</td>\n",
       "      <td>0.0</td>\n",
       "      <td>17.571828</td>\n",
       "    </tr>\n",
       "  </tbody>\n",
       "</table>\n",
       "</div>"
      ],
      "text/plain": [
       "                ud-hdt     ud-gsd     ud-pud      germanc  archimob    nosta-d\n",
       "algorithm                                                                     \n",
       "baseline      0.000008   0.042235   0.001395     0.001457       0.0   0.000002\n",
       "germalemma    2.144125   0.057110   0.117779     3.326020       0.0   0.065338\n",
       "simplemma     1.203707   0.037724   0.036087     0.976444       0.0   0.023459\n",
       "spacy2       37.564708   2.061178   2.725797    83.411965       0.0   5.341197\n",
       "spacy3        2.958954   0.248304   0.198066     6.455835       0.0   0.206511\n",
       "spacy33+    487.363728  32.124115  33.378052  1033.347623       0.0  65.591092\n",
       "stanza      196.215316   7.175498  11.535709   359.056531       0.0  17.571828"
      ]
     },
     "execution_count": 40,
     "metadata": {},
     "output_type": "execute_result"
    }
   ],
   "source": [
    "time = pd.DataFrame(columns=['algorithm']+corpora)\n",
    "line = []\n",
    "algo_index = 0\n",
    "for d in data:\n",
    "    if d['dataset'] == 'archimob' or len(line)==4:  # error reading in\n",
    "        line.append(0)\n",
    "        continue\n",
    "    line.append(d['elapsed'])\n",
    "    if d['dataset'] == 'nosta-d':  # last corpus reached\n",
    "        time.loc[len(time)] = [algos[algo_index]]+ line\n",
    "        line = []\n",
    "        algo_index += 1  # next algorithm\n",
    "time = time.set_index('algorithm')\n",
    "time = time.astype(float)\n",
    "time"
   ]
  },
  {
   "cell_type": "code",
   "execution_count": 42,
   "id": "c82c896b",
   "metadata": {},
   "outputs": [
    {
     "data": {
      "text/plain": [
       "<AxesSubplot:ylabel='algorithm'>"
      ]
     },
     "execution_count": 42,
     "metadata": {},
     "output_type": "execute_result"
    },
    {
     "data": {
      "image/png": "[encoded data removed]",
      "text/plain": [
       "<Figure size 432x288 with 2 Axes>"
      ]
     },
     "metadata": {
      "needs_background": "light"
     },
     "output_type": "display_data"
    }
   ],
   "source": [
    "sns.heatmap(time, cmap=\"YlGnBu\")"
   ]
  },
  {
   "cell_type": "code",
   "execution_count": 47,
   "id": "3d0f75bd",
   "metadata": {},
   "outputs": [
    {
     "data": {
      "text/html": [
       "<div>\n",
       "<style scoped>\n",
       "    .dataframe tbody tr th:only-of-type {\n",
       "        vertical-align: middle;\n",
       "    }\n",
       "\n",
       "    .dataframe tbody tr th {\n",
       "        vertical-align: top;\n",
       "    }\n",
       "\n",
       "    .dataframe thead th {\n",
       "        text-align: right;\n",
       "    }\n",
       "</style>\n",
       "<table border=\"1\" class=\"dataframe\">\n",
       "  <thead>\n",
       "    <tr style=\"text-align: right;\">\n",
       "      <th></th>\n",
       "      <th>ud-hdt</th>\n",
       "      <th>ud-gsd</th>\n",
       "      <th>ud-pud</th>\n",
       "      <th>germanc</th>\n",
       "      <th>archimob</th>\n",
       "      <th>nosta-d</th>\n",
       "    </tr>\n",
       "    <tr>\n",
       "      <th>algorithm</th>\n",
       "      <th></th>\n",
       "      <th></th>\n",
       "      <th></th>\n",
       "      <th></th>\n",
       "      <th></th>\n",
       "      <th></th>\n",
       "    </tr>\n",
       "  </thead>\n",
       "  <tbody>\n",
       "    <tr>\n",
       "      <th>baseline</th>\n",
       "      <td>72.0</td>\n",
       "      <td>0.0</td>\n",
       "      <td>48.0</td>\n",
       "      <td>4.800000e+01</td>\n",
       "      <td>0.0</td>\n",
       "      <td>0.0</td>\n",
       "    </tr>\n",
       "    <tr>\n",
       "      <th>germalemma</th>\n",
       "      <td>29336563.0</td>\n",
       "      <td>445398.0</td>\n",
       "      <td>1072563.0</td>\n",
       "      <td>3.541075e+07</td>\n",
       "      <td>0.0</td>\n",
       "      <td>806812.0</td>\n",
       "    </tr>\n",
       "    <tr>\n",
       "      <th>simplemma</th>\n",
       "      <td>172822097.0</td>\n",
       "      <td>600854.0</td>\n",
       "      <td>3297621.0</td>\n",
       "      <td>2.324640e+07</td>\n",
       "      <td>0.0</td>\n",
       "      <td>624402.0</td>\n",
       "    </tr>\n",
       "    <tr>\n",
       "      <th>spacy2</th>\n",
       "      <td>352450412.0</td>\n",
       "      <td>13165989.0</td>\n",
       "      <td>17276251.0</td>\n",
       "      <td>6.443319e+08</td>\n",
       "      <td>0.0</td>\n",
       "      <td>27713953.0</td>\n",
       "    </tr>\n",
       "    <tr>\n",
       "      <th>spacy3</th>\n",
       "      <td>158755092.0</td>\n",
       "      <td>9207884.0</td>\n",
       "      <td>8302646.0</td>\n",
       "      <td>3.114068e+08</td>\n",
       "      <td>0.0</td>\n",
       "      <td>17347294.0</td>\n",
       "    </tr>\n",
       "    <tr>\n",
       "      <th>spacy33+</th>\n",
       "      <td>251155751.0</td>\n",
       "      <td>13974444.0</td>\n",
       "      <td>14264471.0</td>\n",
       "      <td>5.116736e+08</td>\n",
       "      <td>0.0</td>\n",
       "      <td>30928058.0</td>\n",
       "    </tr>\n",
       "    <tr>\n",
       "      <th>stanza</th>\n",
       "      <td>497860142.0</td>\n",
       "      <td>24898789.0</td>\n",
       "      <td>32443298.0</td>\n",
       "      <td>1.185841e+09</td>\n",
       "      <td>0.0</td>\n",
       "      <td>62312916.0</td>\n",
       "    </tr>\n",
       "  </tbody>\n",
       "</table>\n",
       "</div>"
      ],
      "text/plain": [
       "                 ud-hdt      ud-gsd      ud-pud       germanc  archimob  \\\n",
       "algorithm                                                                 \n",
       "baseline           72.0         0.0        48.0  4.800000e+01       0.0   \n",
       "germalemma   29336563.0    445398.0   1072563.0  3.541075e+07       0.0   \n",
       "simplemma   172822097.0    600854.0   3297621.0  2.324640e+07       0.0   \n",
       "spacy2      352450412.0  13165989.0  17276251.0  6.443319e+08       0.0   \n",
       "spacy3      158755092.0   9207884.0   8302646.0  3.114068e+08       0.0   \n",
       "spacy33+    251155751.0  13974444.0  14264471.0  5.116736e+08       0.0   \n",
       "stanza      497860142.0  24898789.0  32443298.0  1.185841e+09       0.0   \n",
       "\n",
       "               nosta-d  \n",
       "algorithm               \n",
       "baseline           0.0  \n",
       "germalemma    806812.0  \n",
       "simplemma     624402.0  \n",
       "spacy2      27713953.0  \n",
       "spacy3      17347294.0  \n",
       "spacy33+    30928058.0  \n",
       "stanza      62312916.0  "
      ]
     },
     "execution_count": 47,
     "metadata": {},
     "output_type": "execute_result"
    }
   ],
   "source": [
    "memory = pd.DataFrame(columns=['algorithm']+corpora)\n",
    "line = []\n",
    "algo_index = 0\n",
    "for d in data:\n",
    "    if d['dataset'] == 'archimob' or len(line)==4:  # error reading in archimob\n",
    "        line.append(0)\n",
    "        continue\n",
    "    line.append(d['memory_peak'])\n",
    "    if d['dataset'] == 'nosta-d':  # last corpus reached\n",
    "        memory.loc[len(memory)] = [algos[algo_index]] + line\n",
    "        line = []\n",
    "        algo_index += 1  # next algorithm\n",
    "memory = memory.set_index('algorithm')\n",
    "memory = memory.astype(float)\n",
    "memory"
   ]
  },
  {
   "cell_type": "code",
   "execution_count": 48,
   "id": "6bf2a1ef",
   "metadata": {},
   "outputs": [
    {
     "data": {
      "text/plain": [
       "<AxesSubplot:ylabel='algorithm'>"
      ]
     },
     "execution_count": 48,
     "metadata": {},
     "output_type": "execute_result"
    },
    {
     "data": {
      "image/png": "[encoded data removed]",
      "text/plain": [
       "<Figure size 432x288 with 2 Axes>"
      ]
     },
     "metadata": {
      "needs_background": "light"
     },
     "output_type": "display_data"
    }
   ],
   "source": [
    "sns.heatmap(memory, cmap=\"YlGnBu\")"
   ]
  }
 ],
 "metadata": {
  "kernelspec": {
   "display_name": "Python 3 (ipykernel)",
   "language": "python",
   "name": "python3"
  },
  "language_info": {
   "codemirror_mode": {
    "name": "ipython",
    "version": 3
   },
   "file_extension": ".py",
   "mimetype": "text/x-python",
   "name": "python",
   "nbconvert_exporter": "python",
   "pygments_lexer": "ipython3",
   "version": "3.7.11"
  }
 },
 "nbformat": 4,
 "nbformat_minor": 5
}
