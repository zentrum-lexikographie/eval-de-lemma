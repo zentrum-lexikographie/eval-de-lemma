{
 "cells": [
  {
   "cell_type": "markdown",
   "id": "71ed4a6c",
   "metadata": {},
   "source": [
    "# Lemmatisierer Evaluierung"
   ]
  },
  {
   "cell_type": "code",
   "execution_count": 2,
   "id": "25af25ac",
   "metadata": {},
   "outputs": [],
   "source": [
    "import glob\n",
    "import json\n",
    "import pandas as pd\n",
    "\n",
    "import matplotlib.pyplot as plt\n",
    "%matplotlib inline"
   ]
  },
  {
   "cell_type": "code",
   "execution_count": 3,
   "id": "d48b0ea2",
   "metadata": {},
   "outputs": [],
   "source": [
    "FILES = glob.glob(\"results-*.json\")\n",
    "data = []\n",
    "for FILE in FILES:\n",
    "    with open(FILE, \"r\") as fp:\n",
    "        data += json.load(fp)"
   ]
  },
  {
   "cell_type": "code",
   "execution_count": 4,
   "id": "1cdb3086",
   "metadata": {},
   "outputs": [
    {
     "data": {
      "text/plain": [
       "47"
      ]
     },
     "execution_count": 4,
     "metadata": {},
     "output_type": "execute_result"
    }
   ],
   "source": [
    "len(data)"
   ]
  },
  {
   "cell_type": "code",
   "execution_count": 7,
   "id": "a1660511",
   "metadata": {},
   "outputs": [
    {
     "data": {
      "text/plain": [
       "{'dataset': 'ud-hdt',\n",
       " 'sample-size': 321919,\n",
       " 'lemmatizer': 'germalemma',\n",
       " 'metrics': {'overall': {'number_of_lemmata': 151291,\n",
       "   'accuracy': 0.6648776199509554,\n",
       "   'recall': 0.6648776199509554,\n",
       "   'precision': 0.6648776199509554,\n",
       "   'f1': 0.6648776199509554,\n",
       "   'adj_recall': 0.2503434936081635,\n",
       "   'adj_precision': 0.27745895560905587,\n",
       "   'adj_f1': 0.25621763137084635,\n",
       "   'adj_accuracy': 0.48905333646577537,\n",
       "   'log-levenshtein': 0.6161802132858276,\n",
       "   'log-levenshtein2': 0.6368251662169743,\n",
       "   'levenshtein': 2.1102511054854554,\n",
       "   'levenshtein-wordlen': 0.3378021199002834},\n",
       "  'NOUN': {'number_of_lemmata': 65612,\n",
       "   'accuracy': 0.6306315917819911,\n",
       "   'recall': 0.6306315917819911,\n",
       "   'precision': 0.6306315917819911,\n",
       "   'f1': 0.6306315917819911,\n",
       "   'adj_recall': 0.20510020137657253,\n",
       "   'adj_precision': 0.23548819977452595,\n",
       "   'adj_f1': 0.21183417757076237,\n",
       "   'adj_accuracy': 0.6816126161566,\n",
       "   'log-levenshtein': 0.7553294761962177,\n",
       "   'log-levenshtein2': 0.7856770477743661,\n",
       "   'levenshtein': 2.850560873011035,\n",
       "   'levenshtein-wordlen': 0.45288919307753983},\n",
       "  'ADJ': {'number_of_lemmata': 25003,\n",
       "   'accuracy': 0.6890773107227133,\n",
       "   'recall': 0.6890773107227133,\n",
       "   'precision': 0.6890773107227133,\n",
       "   'f1': 0.6890773107227133,\n",
       "   'adj_recall': 0.313601672985824,\n",
       "   'adj_precision': 0.3022298764226866,\n",
       "   'adj_f1': 0.3040483292703575,\n",
       "   'adj_accuracy': 0.46243764684716504,\n",
       "   'log-levenshtein': 0.3498953575150769,\n",
       "   'log-levenshtein2': 0.3926726900399585,\n",
       "   'levenshtein': 0.7470303563572371,\n",
       "   'levenshtein-wordlen': 0.11143571958131061},\n",
       "  'PROPN': {'number_of_lemmata': 17546,\n",
       "   'accuracy': 0.0,\n",
       "   'recall': 0.0,\n",
       "   'precision': 0.0,\n",
       "   'f1': 0.0,\n",
       "   'adj_recall': 0.0,\n",
       "   'adj_precision': 0.0,\n",
       "   'adj_f1': 0.0,\n",
       "   'adj_accuracy': -0.00020197939810139367,\n",
       "   'log-levenshtein': 1.91381312715481,\n",
       "   'log-levenshtein2': 1.91381312715481,\n",
       "   'levenshtein': 6.300809301265246,\n",
       "   'levenshtein-wordlen': 1.0},\n",
       "  'ADV': {'number_of_lemmata': 19005,\n",
       "   'accuracy': 0.9637463825309129,\n",
       "   'recall': 0.9637463825309129,\n",
       "   'precision': 0.9637463825309129,\n",
       "   'f1': 0.9637463825309129,\n",
       "   'adj_recall': 0.7410152379880375,\n",
       "   'adj_precision': 0.741902485765232,\n",
       "   'adj_f1': 0.7406775335149208,\n",
       "   'adj_accuracy': 0.8279370665466019,\n",
       "   'log-levenshtein': 0.03832960934461213,\n",
       "   'log-levenshtein2': 0.03931869524217358,\n",
       "   'levenshtein': 0.07156011575901079,\n",
       "   'levenshtein-wordlen': 0.014665098504670586},\n",
       "  'VERB': {'number_of_lemmata': 24125,\n",
       "   'accuracy': 0.9810569948186528,\n",
       "   'recall': 0.9810569948186528,\n",
       "   'precision': 0.9810569948186528,\n",
       "   'f1': 0.9810569948186528,\n",
       "   'adj_recall': 0.8477129149524901,\n",
       "   'adj_precision': 0.860247645605963,\n",
       "   'adj_f1': 0.8511867034930346,\n",
       "   'adj_accuracy': 0.9444666067911823,\n",
       "   'log-levenshtein': 0.02516850062027864,\n",
       "   'log-levenshtein2': 0.02698700776723835,\n",
       "   'levenshtein': 0.06793782383419689,\n",
       "   'levenshtein-wordlen': 0.032353048367190426}},\n",
       " 'elapsed': 2.14412522315979,\n",
       " 'memory_current': 29335749,\n",
       " 'memory_peak': 29336563}"
      ]
     },
     "execution_count": 7,
     "metadata": {},
     "output_type": "execute_result"
    }
   ],
   "source": [
    "data[6]"
   ]
  },
  {
   "cell_type": "code",
   "execution_count": 19,
   "id": "cd726dda",
   "metadata": {},
   "outputs": [],
   "source": [
    "algos = [\"baseline\", \"germalemma\", \"simplemma\", \"spacy2\", \"spacy3\", \"spacy33+\", \"stanza\", \"trankit\"]"
   ]
  },
  {
   "cell_type": "code",
   "execution_count": 10,
   "id": "f9c86251",
   "metadata": {},
   "outputs": [],
   "source": [
    "corpora = [\"ud-hdt\", \"ud-gsd\", \"ud-pud\", \"germanc\", \"archimob\", \"nosta-d\"]"
   ]
  },
  {
   "cell_type": "code",
   "execution_count": 18,
   "id": "98da6fc5",
   "metadata": {},
   "outputs": [
    {
     "name": "stdout",
     "output_type": "stream",
     "text": [
      "['baseline', 8.106231689453125e-06, 0.04223465919494629, 0.0013952255249023438, 0.0014574527740478516, 0.04113197326660156, 1.6689300537109375e-06]\n",
      "['germalemma', 2.14412522315979, 0.05711007118225098, 0.11777949333190918, 3.3260202407836914, 0.016447782516479492, 0.0653376579284668]\n",
      "['simplemma', 1.2037074565887451, 0.03772401809692383, 0.0360867977142334, 0.9764435291290283, 0.004106998443603516, 0.023459434509277344]\n",
      "['spacy2', 37.56470847129822, 2.06117844581604, 2.725797414779663, 83.41196465492249, 0.16302156448364258, 5.341196775436401]\n",
      "['spacy3', 2.958953857421875, 0.2483043670654297, 0.19806647300720215, 6.4558351039886475, 0.1533496379852295, 0.2065112590789795]\n",
      "['spacy33+', 487.36372804641724, 32.124114990234375, 33.37805223464966, 1033.3476231098175, 0.6806771755218506, 65.59109210968018]\n",
      "['stanaza', 196.21531558036804, 7.1754984855651855, 11.535708904266357, 359.0565311908722, 0.005842447280883789, 17.57182812690735]\n",
      "['trankit', 88.48871803283691, 3.95353364944458, 5.233980655670166, 165.8897352218628, 7.096768856048584]\n"
     ]
    },
    {
     "ename": "ValueError",
     "evalue": "Unable to coerce to Series, length must be 7: given 6",
     "output_type": "error",
     "traceback": [
      "\u001b[1;31m---------------------------------------------------------------------------\u001b[0m",
      "\u001b[1;31mValueError\u001b[0m                                Traceback (most recent call last)",
      "\u001b[1;32m~\\AppData\\Local\\Temp/ipykernel_7368/2153377258.py\u001b[0m in \u001b[0;36m<module>\u001b[1;34m\u001b[0m\n\u001b[0;32m      6\u001b[0m     \u001b[1;32mif\u001b[0m \u001b[0md\u001b[0m\u001b[1;33m[\u001b[0m\u001b[1;34m'dataset'\u001b[0m\u001b[1;33m]\u001b[0m \u001b[1;33m==\u001b[0m \u001b[1;34m'nosta-d'\u001b[0m\u001b[1;33m:\u001b[0m  \u001b[1;31m# last corpus reached\u001b[0m\u001b[1;33m\u001b[0m\u001b[1;33m\u001b[0m\u001b[0m\n\u001b[0;32m      7\u001b[0m         \u001b[0mprint\u001b[0m\u001b[1;33m(\u001b[0m\u001b[1;33m[\u001b[0m\u001b[0malgos\u001b[0m\u001b[1;33m[\u001b[0m\u001b[0malgo_index\u001b[0m\u001b[1;33m]\u001b[0m\u001b[1;33m]\u001b[0m \u001b[1;33m+\u001b[0m \u001b[0mline\u001b[0m\u001b[1;33m)\u001b[0m\u001b[1;33m\u001b[0m\u001b[1;33m\u001b[0m\u001b[0m\n\u001b[1;32m----> 8\u001b[1;33m         \u001b[0mtime\u001b[0m \u001b[1;33m+=\u001b[0m \u001b[1;33m[\u001b[0m\u001b[0malgos\u001b[0m\u001b[1;33m[\u001b[0m\u001b[0malgo_index\u001b[0m\u001b[1;33m]\u001b[0m\u001b[1;33m]\u001b[0m \u001b[1;33m+\u001b[0m \u001b[0mline\u001b[0m\u001b[1;33m\u001b[0m\u001b[1;33m\u001b[0m\u001b[0m\n\u001b[0m\u001b[0;32m      9\u001b[0m         \u001b[0mline\u001b[0m \u001b[1;33m=\u001b[0m \u001b[1;33m[\u001b[0m\u001b[1;33m]\u001b[0m\u001b[1;33m\u001b[0m\u001b[1;33m\u001b[0m\u001b[0m\n\u001b[0;32m     10\u001b[0m         \u001b[0malgo_index\u001b[0m \u001b[1;33m+=\u001b[0m \u001b[1;36m1\u001b[0m\u001b[1;33m\u001b[0m\u001b[1;33m\u001b[0m\u001b[0m\n",
      "\u001b[1;32m~\\anaconda3\\envs\\evidence1\\lib\\site-packages\\pandas\\core\\generic.py\u001b[0m in \u001b[0;36m__iadd__\u001b[1;34m(self, other)\u001b[0m\n\u001b[0;32m  10962\u001b[0m     \u001b[1;32mdef\u001b[0m \u001b[0m__iadd__\u001b[0m\u001b[1;33m(\u001b[0m\u001b[0mself\u001b[0m\u001b[1;33m,\u001b[0m \u001b[0mother\u001b[0m\u001b[1;33m)\u001b[0m\u001b[1;33m:\u001b[0m\u001b[1;33m\u001b[0m\u001b[1;33m\u001b[0m\u001b[0m\n\u001b[0;32m  10963\u001b[0m         \u001b[1;31m# error: Unsupported left operand type for + (\"Type[NDFrame]\")\u001b[0m\u001b[1;33m\u001b[0m\u001b[1;33m\u001b[0m\u001b[1;33m\u001b[0m\u001b[0m\n\u001b[1;32m> 10964\u001b[1;33m         \u001b[1;32mreturn\u001b[0m \u001b[0mself\u001b[0m\u001b[1;33m.\u001b[0m\u001b[0m_inplace_method\u001b[0m\u001b[1;33m(\u001b[0m\u001b[0mother\u001b[0m\u001b[1;33m,\u001b[0m \u001b[0mtype\u001b[0m\u001b[1;33m(\u001b[0m\u001b[0mself\u001b[0m\u001b[1;33m)\u001b[0m\u001b[1;33m.\u001b[0m\u001b[0m__add__\u001b[0m\u001b[1;33m)\u001b[0m  \u001b[1;31m# type: ignore[operator]\u001b[0m\u001b[1;33m\u001b[0m\u001b[1;33m\u001b[0m\u001b[0m\n\u001b[0m\u001b[0;32m  10965\u001b[0m \u001b[1;33m\u001b[0m\u001b[0m\n\u001b[0;32m  10966\u001b[0m     \u001b[1;32mdef\u001b[0m \u001b[0m__isub__\u001b[0m\u001b[1;33m(\u001b[0m\u001b[0mself\u001b[0m\u001b[1;33m,\u001b[0m \u001b[0mother\u001b[0m\u001b[1;33m)\u001b[0m\u001b[1;33m:\u001b[0m\u001b[1;33m\u001b[0m\u001b[1;33m\u001b[0m\u001b[0m\n",
      "\u001b[1;32m~\\anaconda3\\envs\\evidence1\\lib\\site-packages\\pandas\\core\\generic.py\u001b[0m in \u001b[0;36m_inplace_method\u001b[1;34m(self, other, op)\u001b[0m\n\u001b[0;32m  10939\u001b[0m         \u001b[0mWrap\u001b[0m \u001b[0marithmetic\u001b[0m \u001b[0mmethod\u001b[0m \u001b[0mto\u001b[0m \u001b[0moperate\u001b[0m \u001b[0minplace\u001b[0m\u001b[1;33m.\u001b[0m\u001b[1;33m\u001b[0m\u001b[1;33m\u001b[0m\u001b[0m\n\u001b[0;32m  10940\u001b[0m         \"\"\"\n\u001b[1;32m> 10941\u001b[1;33m         \u001b[0mresult\u001b[0m \u001b[1;33m=\u001b[0m \u001b[0mop\u001b[0m\u001b[1;33m(\u001b[0m\u001b[0mself\u001b[0m\u001b[1;33m,\u001b[0m \u001b[0mother\u001b[0m\u001b[1;33m)\u001b[0m\u001b[1;33m\u001b[0m\u001b[1;33m\u001b[0m\u001b[0m\n\u001b[0m\u001b[0;32m  10942\u001b[0m \u001b[1;33m\u001b[0m\u001b[0m\n\u001b[0;32m  10943\u001b[0m         if (\n",
      "\u001b[1;32m~\\anaconda3\\envs\\evidence1\\lib\\site-packages\\pandas\\core\\ops\\common.py\u001b[0m in \u001b[0;36mnew_method\u001b[1;34m(self, other)\u001b[0m\n\u001b[0;32m     67\u001b[0m         \u001b[0mother\u001b[0m \u001b[1;33m=\u001b[0m \u001b[0mitem_from_zerodim\u001b[0m\u001b[1;33m(\u001b[0m\u001b[0mother\u001b[0m\u001b[1;33m)\u001b[0m\u001b[1;33m\u001b[0m\u001b[1;33m\u001b[0m\u001b[0m\n\u001b[0;32m     68\u001b[0m \u001b[1;33m\u001b[0m\u001b[0m\n\u001b[1;32m---> 69\u001b[1;33m         \u001b[1;32mreturn\u001b[0m \u001b[0mmethod\u001b[0m\u001b[1;33m(\u001b[0m\u001b[0mself\u001b[0m\u001b[1;33m,\u001b[0m \u001b[0mother\u001b[0m\u001b[1;33m)\u001b[0m\u001b[1;33m\u001b[0m\u001b[1;33m\u001b[0m\u001b[0m\n\u001b[0m\u001b[0;32m     70\u001b[0m \u001b[1;33m\u001b[0m\u001b[0m\n\u001b[0;32m     71\u001b[0m     \u001b[1;32mreturn\u001b[0m \u001b[0mnew_method\u001b[0m\u001b[1;33m\u001b[0m\u001b[1;33m\u001b[0m\u001b[0m\n",
      "\u001b[1;32m~\\anaconda3\\envs\\evidence1\\lib\\site-packages\\pandas\\core\\arraylike.py\u001b[0m in \u001b[0;36m__add__\u001b[1;34m(self, other)\u001b[0m\n\u001b[0;32m     90\u001b[0m     \u001b[1;33m@\u001b[0m\u001b[0munpack_zerodim_and_defer\u001b[0m\u001b[1;33m(\u001b[0m\u001b[1;34m\"__add__\"\u001b[0m\u001b[1;33m)\u001b[0m\u001b[1;33m\u001b[0m\u001b[1;33m\u001b[0m\u001b[0m\n\u001b[0;32m     91\u001b[0m     \u001b[1;32mdef\u001b[0m \u001b[0m__add__\u001b[0m\u001b[1;33m(\u001b[0m\u001b[0mself\u001b[0m\u001b[1;33m,\u001b[0m \u001b[0mother\u001b[0m\u001b[1;33m)\u001b[0m\u001b[1;33m:\u001b[0m\u001b[1;33m\u001b[0m\u001b[1;33m\u001b[0m\u001b[0m\n\u001b[1;32m---> 92\u001b[1;33m         \u001b[1;32mreturn\u001b[0m \u001b[0mself\u001b[0m\u001b[1;33m.\u001b[0m\u001b[0m_arith_method\u001b[0m\u001b[1;33m(\u001b[0m\u001b[0mother\u001b[0m\u001b[1;33m,\u001b[0m \u001b[0moperator\u001b[0m\u001b[1;33m.\u001b[0m\u001b[0madd\u001b[0m\u001b[1;33m)\u001b[0m\u001b[1;33m\u001b[0m\u001b[1;33m\u001b[0m\u001b[0m\n\u001b[0m\u001b[0;32m     93\u001b[0m \u001b[1;33m\u001b[0m\u001b[0m\n\u001b[0;32m     94\u001b[0m     \u001b[1;33m@\u001b[0m\u001b[0munpack_zerodim_and_defer\u001b[0m\u001b[1;33m(\u001b[0m\u001b[1;34m\"__radd__\"\u001b[0m\u001b[1;33m)\u001b[0m\u001b[1;33m\u001b[0m\u001b[1;33m\u001b[0m\u001b[0m\n",
      "\u001b[1;32m~\\anaconda3\\envs\\evidence1\\lib\\site-packages\\pandas\\core\\frame.py\u001b[0m in \u001b[0;36m_arith_method\u001b[1;34m(self, other, op)\u001b[0m\n\u001b[0;32m   6862\u001b[0m         \u001b[0mother\u001b[0m \u001b[1;33m=\u001b[0m \u001b[0mops\u001b[0m\u001b[1;33m.\u001b[0m\u001b[0mmaybe_prepare_scalar_for_op\u001b[0m\u001b[1;33m(\u001b[0m\u001b[0mother\u001b[0m\u001b[1;33m,\u001b[0m \u001b[1;33m(\u001b[0m\u001b[0mself\u001b[0m\u001b[1;33m.\u001b[0m\u001b[0mshape\u001b[0m\u001b[1;33m[\u001b[0m\u001b[0maxis\u001b[0m\u001b[1;33m]\u001b[0m\u001b[1;33m,\u001b[0m\u001b[1;33m)\u001b[0m\u001b[1;33m)\u001b[0m\u001b[1;33m\u001b[0m\u001b[1;33m\u001b[0m\u001b[0m\n\u001b[0;32m   6863\u001b[0m \u001b[1;33m\u001b[0m\u001b[0m\n\u001b[1;32m-> 6864\u001b[1;33m         \u001b[0mself\u001b[0m\u001b[1;33m,\u001b[0m \u001b[0mother\u001b[0m \u001b[1;33m=\u001b[0m \u001b[0mops\u001b[0m\u001b[1;33m.\u001b[0m\u001b[0malign_method_FRAME\u001b[0m\u001b[1;33m(\u001b[0m\u001b[0mself\u001b[0m\u001b[1;33m,\u001b[0m \u001b[0mother\u001b[0m\u001b[1;33m,\u001b[0m \u001b[0maxis\u001b[0m\u001b[1;33m,\u001b[0m \u001b[0mflex\u001b[0m\u001b[1;33m=\u001b[0m\u001b[1;32mTrue\u001b[0m\u001b[1;33m,\u001b[0m \u001b[0mlevel\u001b[0m\u001b[1;33m=\u001b[0m\u001b[1;32mNone\u001b[0m\u001b[1;33m)\u001b[0m\u001b[1;33m\u001b[0m\u001b[1;33m\u001b[0m\u001b[0m\n\u001b[0m\u001b[0;32m   6865\u001b[0m \u001b[1;33m\u001b[0m\u001b[0m\n\u001b[0;32m   6866\u001b[0m         \u001b[0mnew_data\u001b[0m \u001b[1;33m=\u001b[0m \u001b[0mself\u001b[0m\u001b[1;33m.\u001b[0m\u001b[0m_dispatch_frame_op\u001b[0m\u001b[1;33m(\u001b[0m\u001b[0mother\u001b[0m\u001b[1;33m,\u001b[0m \u001b[0mop\u001b[0m\u001b[1;33m,\u001b[0m \u001b[0maxis\u001b[0m\u001b[1;33m=\u001b[0m\u001b[0maxis\u001b[0m\u001b[1;33m)\u001b[0m\u001b[1;33m\u001b[0m\u001b[1;33m\u001b[0m\u001b[0m\n",
      "\u001b[1;32m~\\anaconda3\\envs\\evidence1\\lib\\site-packages\\pandas\\core\\ops\\__init__.py\u001b[0m in \u001b[0;36malign_method_FRAME\u001b[1;34m(left, right, axis, flex, level)\u001b[0m\n\u001b[0;32m    279\u001b[0m             )\n\u001b[0;32m    280\u001b[0m         \u001b[1;31m# GH17901\u001b[0m\u001b[1;33m\u001b[0m\u001b[1;33m\u001b[0m\u001b[1;33m\u001b[0m\u001b[0m\n\u001b[1;32m--> 281\u001b[1;33m         \u001b[0mright\u001b[0m \u001b[1;33m=\u001b[0m \u001b[0mto_series\u001b[0m\u001b[1;33m(\u001b[0m\u001b[0mright\u001b[0m\u001b[1;33m)\u001b[0m\u001b[1;33m\u001b[0m\u001b[1;33m\u001b[0m\u001b[0m\n\u001b[0m\u001b[0;32m    282\u001b[0m \u001b[1;33m\u001b[0m\u001b[0m\n\u001b[0;32m    283\u001b[0m     \u001b[1;32mif\u001b[0m \u001b[0mflex\u001b[0m \u001b[1;32mis\u001b[0m \u001b[1;32mnot\u001b[0m \u001b[1;32mNone\u001b[0m \u001b[1;32mand\u001b[0m \u001b[0misinstance\u001b[0m\u001b[1;33m(\u001b[0m\u001b[0mright\u001b[0m\u001b[1;33m,\u001b[0m \u001b[0mABCDataFrame\u001b[0m\u001b[1;33m)\u001b[0m\u001b[1;33m:\u001b[0m\u001b[1;33m\u001b[0m\u001b[1;33m\u001b[0m\u001b[0m\n",
      "\u001b[1;32m~\\anaconda3\\envs\\evidence1\\lib\\site-packages\\pandas\\core\\ops\\__init__.py\u001b[0m in \u001b[0;36mto_series\u001b[1;34m(right)\u001b[0m\n\u001b[0;32m    237\u001b[0m             \u001b[1;32mif\u001b[0m \u001b[0mlen\u001b[0m\u001b[1;33m(\u001b[0m\u001b[0mleft\u001b[0m\u001b[1;33m.\u001b[0m\u001b[0mcolumns\u001b[0m\u001b[1;33m)\u001b[0m \u001b[1;33m!=\u001b[0m \u001b[0mlen\u001b[0m\u001b[1;33m(\u001b[0m\u001b[0mright\u001b[0m\u001b[1;33m)\u001b[0m\u001b[1;33m:\u001b[0m\u001b[1;33m\u001b[0m\u001b[1;33m\u001b[0m\u001b[0m\n\u001b[0;32m    238\u001b[0m                 raise ValueError(\n\u001b[1;32m--> 239\u001b[1;33m                     \u001b[0mmsg\u001b[0m\u001b[1;33m.\u001b[0m\u001b[0mformat\u001b[0m\u001b[1;33m(\u001b[0m\u001b[0mreq_len\u001b[0m\u001b[1;33m=\u001b[0m\u001b[0mlen\u001b[0m\u001b[1;33m(\u001b[0m\u001b[0mleft\u001b[0m\u001b[1;33m.\u001b[0m\u001b[0mcolumns\u001b[0m\u001b[1;33m)\u001b[0m\u001b[1;33m,\u001b[0m \u001b[0mgiven_len\u001b[0m\u001b[1;33m=\u001b[0m\u001b[0mlen\u001b[0m\u001b[1;33m(\u001b[0m\u001b[0mright\u001b[0m\u001b[1;33m)\u001b[0m\u001b[1;33m)\u001b[0m\u001b[1;33m\u001b[0m\u001b[1;33m\u001b[0m\u001b[0m\n\u001b[0m\u001b[0;32m    240\u001b[0m                 )\n\u001b[0;32m    241\u001b[0m             \u001b[0mright\u001b[0m \u001b[1;33m=\u001b[0m \u001b[0mleft\u001b[0m\u001b[1;33m.\u001b[0m\u001b[0m_constructor_sliced\u001b[0m\u001b[1;33m(\u001b[0m\u001b[0mright\u001b[0m\u001b[1;33m,\u001b[0m \u001b[0mindex\u001b[0m\u001b[1;33m=\u001b[0m\u001b[0mleft\u001b[0m\u001b[1;33m.\u001b[0m\u001b[0mcolumns\u001b[0m\u001b[1;33m)\u001b[0m\u001b[1;33m\u001b[0m\u001b[1;33m\u001b[0m\u001b[0m\n",
      "\u001b[1;31mValueError\u001b[0m: Unable to coerce to Series, length must be 7: given 6"
     ]
    }
   ],
   "source": [
    "time = pd.DataFrame(columns=['algorithm']+corpora)\n",
    "line = []\n",
    "algo_index = 0\n",
    "for d in data:\n",
    "    line.append(d['elapsed'])\n",
    "    if d['dataset'] == 'nosta-d':  # last corpus reached\n",
    "        print([algos[algo_index]] + line)\n",
    "        time += [algos[algo_index]] + line\n",
    "        line = []\n",
    "        algo_index += 1  # next algorithm"
   ]
  }
 ],
 "metadata": {
  "kernelspec": {
   "display_name": "Python 3 (ipykernel)",
   "language": "python",
   "name": "python3"
  },
  "language_info": {
   "codemirror_mode": {
    "name": "ipython",
    "version": 3
   },
   "file_extension": ".py",
   "mimetype": "text/x-python",
   "name": "python",
   "nbconvert_exporter": "python",
   "pygments_lexer": "ipython3",
   "version": "3.7.11"
  }
 },
 "nbformat": 4,
 "nbformat_minor": 5
}
