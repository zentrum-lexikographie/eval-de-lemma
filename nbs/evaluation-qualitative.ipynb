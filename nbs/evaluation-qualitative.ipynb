{
 "cells": [
  {
   "cell_type": "markdown",
   "id": "e2896bb4",
   "metadata": {},
   "source": [
    "### Lemmatisierer Evaluierung - qualitativ"
   ]
  },
  {
   "cell_type": "code",
   "execution_count": 1,
   "id": "fc601129",
   "metadata": {},
   "outputs": [],
   "source": [
    "import glob\n",
    "import json\n",
    "import numpy as np\n",
    "import pandas as pd\n",
    "import seaborn as sns\n",
    "\n",
    "import matplotlib.pyplot as plt\n",
    "from matplotlib.pyplot import figure\n",
    "%matplotlib inline"
   ]
  },
  {
   "cell_type": "code",
   "execution_count": 3,
   "id": "f4d86a0d",
   "metadata": {},
   "outputs": [],
   "source": [
    "FILES = glob.glob(\"lemmata/*.csv\")\n",
    "corpora = [f.split(\"baseline-\")[1].replace(\".csv\", \"\") for f in FILES if \"baseline\" in f]\n",
    "data = []\n",
    "algos = [f.split(\"lemmata-\")[1].split('-')[0] for f in FILES if \"lemmata-*-ud-hdt\" in f]\n",
    "\n",
    "for corpus in corpora:\n",
    "    df = pd.read_csv(f\"lemmata/lemmata-baseline-{corpus}.csv\", encoding=\"utf-8\", encoding_errors='ignore')\n",
    "    df.rename(columns = {'lemma_pred':'baseline'}, inplace = True)\n",
    "    for a in algos[1:]:  # ignore baseline\n",
    "        try:\n",
    "            df[a] = pd.read_csv(f\"lemmata/lemmata-{a}-{corpus}.csv\")[\"lemma_pred\"]\n",
    "        except Exception as e:  # corpus not lemmatized by algorithm\n",
    "            print(e, f\"{corpus} not lemmatized by {a}\\n\")\n",
    "    data.append(df)\n",
    "    df.to_csv(f\"lemmata/{corpus}.csv\", encoding=\"utf-8\")"
   ]
  },
  {
   "cell_type": "code",
   "execution_count": 4,
   "id": "1ae250c1",
   "metadata": {},
   "outputs": [
    {
     "data": {
      "text/plain": [
       "(['ud-gsd',\n",
       "  'ud-pud',\n",
       "  'empirist-cmc-blog-norm',\n",
       "  'empirist-cmc-blog',\n",
       "  'empirist-cmc-chat-prof-norm',\n",
       "  'empirist-cmc-chat-prof',\n",
       "  'empirist-cmc-chat-social-norm',\n",
       "  'empirist-cmc-chat-social',\n",
       "  'empirist-cmc-twitter-norm',\n",
       "  'empirist-cmc-twitter',\n",
       "  'empirist-cmc-whatsapp-norm',\n",
       "  'empirist-cmc-whatsapp',\n",
       "  'empirist-cmc-wiki-norm',\n",
       "  'empirist-cmc-wiki',\n",
       "  'empirist-web-norm',\n",
       "  'empirist-web',\n",
       "  'germanc',\n",
       "  'nosta-d-anselm-norm',\n",
       "  'nosta-d-anselm-orig',\n",
       "  'nosta-d-bematac-norm',\n",
       "  'nosta-d-bematac-orig',\n",
       "  'nosta-d-falko-norm',\n",
       "  'nosta-d-falko-orig',\n",
       "  'nosta-d-kafka-norm',\n",
       "  'nosta-d-kafka-orig',\n",
       "  'nosta-d-tuebadz-norm',\n",
       "  'nosta-d-tuebadz-orig',\n",
       "  'nosta-d-unicum-norm',\n",
       "  'nosta-d-unicum-orig',\n",
       "  'rub2019-novelette',\n",
       "  'rub2019-sermononline',\n",
       "  'rub2019-subtitles',\n",
       "  'rub2019-ted',\n",
       "  'rub2019-wikipedia',\n",
       "  'tgermacorp',\n",
       "  'ud-gsd',\n",
       "  'ud-hdt',\n",
       "  'ud-pud'],\n",
       " [])"
      ]
     },
     "execution_count": 4,
     "metadata": {},
     "output_type": "execute_result"
    }
   ],
   "source": [
    "corpora, algos"
   ]
  }
 ],
 "metadata": {
  "kernelspec": {
   "display_name": "Python 3 (ipykernel)",
   "language": "python",
   "name": "python3"
  },
  "language_info": {
   "codemirror_mode": {
    "name": "ipython",
    "version": 3
   },
   "file_extension": ".py",
   "mimetype": "text/x-python",
   "name": "python",
   "nbconvert_exporter": "python",
   "pygments_lexer": "ipython3",
   "version": "3.7.11"
  }
 },
 "nbformat": 4,
 "nbformat_minor": 5
}
